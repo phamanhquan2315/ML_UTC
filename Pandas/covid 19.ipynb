{
 "cells": [
  {
   "cell_type": "code",
   "execution_count": 1,
   "id": "5fb736bd",
   "metadata": {},
   "outputs": [],
   "source": [
    "#Importing the library\n",
    "import pandas as pd\n",
    "import numpy as np\n",
    "import matplotlib.pyplot as plt\n",
    "from matplotlib import ticker\n",
    "import pycountry_convert as pc\n",
    "import folium\n",
    "from datetime import datetime, timedelta,date\n",
    "from scipy.interpolate import make_interp_spline, BSpline\n",
    "import plotly.express as px\n",
    "import plotly.graph_objs as go\n",
    "import json\n",
    "import plotly.offline as py\n",
    "import seaborn as sns\n",
    "plt.style.use('fivethirtyeight')"
   ]
  },
  {
   "cell_type": "code",
   "execution_count": 2,
   "id": "1055c7e6",
   "metadata": {},
   "outputs": [],
   "source": [
    "# Global Data\n",
    "confirmed_df = pd.read_csv('https://raw.githubusercontent.com/CSSEGISandData/COVID-19/master/csse_covid_19_data/csse_covid_19_time_series/time_series_covid19_confirmed_global.csv')\n",
    "deaths_df = pd.read_csv('https://raw.githubusercontent.com/CSSEGISandData/COVID-19/master/csse_covid_19_data/csse_covid_19_time_series/time_series_covid19_deaths_global.csv')\n",
    "recoveries_df = pd.read_csv('https://raw.githubusercontent.com/CSSEGISandData/COVID-19/master/csse_covid_19_data/csse_covid_19_time_series/time_series_covid19_recovered_global.csv')"
   ]
  },
  {
   "cell_type": "code",
   "execution_count": 3,
   "id": "b9b4c0d1",
   "metadata": {},
   "outputs": [],
   "source": [
    "# day start from 1/22/20 to 8/4/21\n",
    "\n",
    "cols = confirmed_df.loc[:,:'8/4/21'].keys()\n",
    "confirmed_df = confirmed_df.loc[:,:'8/4/21']\n",
    "deaths_df = deaths_df.loc[:, :'8/4/21']\n",
    "recoveries_df = recoveries_df.loc[:,:'8/4/21']\n",
    "dates = confirmed_df.loc[:,cols[4]:].keys()\n",
    "\n",
    "total_confirmed = []\n",
    "total_deaths = []\n",
    "mortality_rate = []\n",
    "recovery_rate = []\n",
    "total_recoveries = []\n",
    "total_active = []\n",
    "adjusted_dates = list(np.array([i for i in range(len(dates))]).reshape(-1,1)[:,0])\n",
    "\n"
   ]
  },
  {
   "cell_type": "code",
   "execution_count": 5,
   "id": "7abe743d",
   "metadata": {},
   "outputs": [],
   "source": [
    "total_confirmed = np.array(confirmed_df.iloc[:,4:].sum())\n",
    "total_deaths = np.array(deaths_df.iloc[:,4:].sum())\n",
    "total_recoveries = np.array(recoveries_df.iloc[:,4:].sum())\n",
    "total_active = total_confirmed - total_deaths - total_recoveries"
   ]
  },
  {
   "cell_type": "code",
   "execution_count": 6,
   "id": "eba0aa79",
   "metadata": {},
   "outputs": [
    {
     "name": "stdout",
     "output_type": "stream",
     "text": [
      "Total confirmed cases:  200758588\n",
      "Total death cases:  4283016\n",
      "Total recoveries cases:  130899061\n",
      "Total active cases:  65576511\n"
     ]
    }
   ],
   "source": [
    "print(\"Total confirmed cases: \", total_confirmed[-1])\n",
    "print(\"Total death cases: \", total_deaths[-1])\n",
    "print(\"Total recoveries cases: \", total_recoveries[-1])\n",
    "print(\"Total active cases: \", total_active[-1])"
   ]
  },
  {
   "cell_type": "code",
   "execution_count": 7,
   "id": "4d97683d",
   "metadata": {},
   "outputs": [],
   "source": [
    "df_total = pd.DataFrame(zip(total_confirmed,total_deaths,total_recoveries,total_active),\n",
    "                        index = adjusted_dates,\n",
    "                        columns = ['total_confirmed','total_deaths','total_recoveries','total_active'])"
   ]
  },
  {
   "cell_type": "code",
   "execution_count": 10,
   "id": "70ed53f7",
   "metadata": {},
   "outputs": [],
   "source": [
    "df_total.set_index('total_confirmed',inplace = True)"
   ]
  },
  {
   "cell_type": "code",
   "execution_count": 11,
   "id": "2501f47d",
   "metadata": {},
   "outputs": [
    {
     "data": {
      "text/html": [
       "<div>\n",
       "<style scoped>\n",
       "    .dataframe tbody tr th:only-of-type {\n",
       "        vertical-align: middle;\n",
       "    }\n",
       "\n",
       "    .dataframe tbody tr th {\n",
       "        vertical-align: top;\n",
       "    }\n",
       "\n",
       "    .dataframe thead th {\n",
       "        text-align: right;\n",
       "    }\n",
       "</style>\n",
       "<table border=\"1\" class=\"dataframe\">\n",
       "  <thead>\n",
       "    <tr style=\"text-align: right;\">\n",
       "      <th></th>\n",
       "      <th>total_deaths</th>\n",
       "      <th>total_recoveries</th>\n",
       "      <th>total_active</th>\n",
       "    </tr>\n",
       "    <tr>\n",
       "      <th>total_confirmed</th>\n",
       "      <th></th>\n",
       "      <th></th>\n",
       "      <th></th>\n",
       "    </tr>\n",
       "  </thead>\n",
       "  <tbody>\n",
       "    <tr>\n",
       "      <th>557</th>\n",
       "      <td>17</td>\n",
       "      <td>30</td>\n",
       "      <td>510</td>\n",
       "    </tr>\n",
       "    <tr>\n",
       "      <th>657</th>\n",
       "      <td>18</td>\n",
       "      <td>32</td>\n",
       "      <td>607</td>\n",
       "    </tr>\n",
       "    <tr>\n",
       "      <th>944</th>\n",
       "      <td>26</td>\n",
       "      <td>39</td>\n",
       "      <td>879</td>\n",
       "    </tr>\n",
       "    <tr>\n",
       "      <th>1437</th>\n",
       "      <td>42</td>\n",
       "      <td>42</td>\n",
       "      <td>1353</td>\n",
       "    </tr>\n",
       "    <tr>\n",
       "      <th>2120</th>\n",
       "      <td>56</td>\n",
       "      <td>56</td>\n",
       "      <td>2008</td>\n",
       "    </tr>\n",
       "    <tr>\n",
       "      <th>...</th>\n",
       "      <td>...</td>\n",
       "      <td>...</td>\n",
       "      <td>...</td>\n",
       "    </tr>\n",
       "    <tr>\n",
       "      <th>198389684</th>\n",
       "      <td>4246601</td>\n",
       "      <td>129705211</td>\n",
       "      <td>64437872</td>\n",
       "    </tr>\n",
       "    <tr>\n",
       "      <th>198872752</th>\n",
       "      <td>4254020</td>\n",
       "      <td>129994389</td>\n",
       "      <td>64624343</td>\n",
       "    </tr>\n",
       "    <tr>\n",
       "      <th>199443855</th>\n",
       "      <td>4262171</td>\n",
       "      <td>130277533</td>\n",
       "      <td>64904151</td>\n",
       "    </tr>\n",
       "    <tr>\n",
       "      <th>200078130</th>\n",
       "      <td>4272524</td>\n",
       "      <td>130582001</td>\n",
       "      <td>65223605</td>\n",
       "    </tr>\n",
       "    <tr>\n",
       "      <th>200758588</th>\n",
       "      <td>4283016</td>\n",
       "      <td>130899061</td>\n",
       "      <td>65576511</td>\n",
       "    </tr>\n",
       "  </tbody>\n",
       "</table>\n",
       "<p>561 rows × 3 columns</p>\n",
       "</div>"
      ],
      "text/plain": [
       "                 total_deaths  total_recoveries  total_active\n",
       "total_confirmed                                              \n",
       "557                        17                30           510\n",
       "657                        18                32           607\n",
       "944                        26                39           879\n",
       "1437                       42                42          1353\n",
       "2120                       56                56          2008\n",
       "...                       ...               ...           ...\n",
       "198389684             4246601         129705211      64437872\n",
       "198872752             4254020         129994389      64624343\n",
       "199443855             4262171         130277533      64904151\n",
       "200078130             4272524         130582001      65223605\n",
       "200758588             4283016         130899061      65576511\n",
       "\n",
       "[561 rows x 3 columns]"
      ]
     },
     "execution_count": 11,
     "metadata": {},
     "output_type": "execute_result"
    }
   ],
   "source": [
    "df_total"
   ]
  },
  {
   "cell_type": "code",
   "execution_count": 12,
   "id": "7bf46804",
   "metadata": {},
   "outputs": [],
   "source": [
    "df_total.to_csv('covid_19.csv')"
   ]
  },
  {
   "cell_type": "code",
   "execution_count": null,
   "id": "20608658",
   "metadata": {},
   "outputs": [],
   "source": []
  }
 ],
 "metadata": {
  "kernelspec": {
   "display_name": "Python 3 (ipykernel)",
   "language": "python",
   "name": "python3"
  },
  "language_info": {
   "codemirror_mode": {
    "name": "ipython",
    "version": 3
   },
   "file_extension": ".py",
   "mimetype": "text/x-python",
   "name": "python",
   "nbconvert_exporter": "python",
   "pygments_lexer": "ipython3",
   "version": "3.11.4"
  }
 },
 "nbformat": 4,
 "nbformat_minor": 5
}
